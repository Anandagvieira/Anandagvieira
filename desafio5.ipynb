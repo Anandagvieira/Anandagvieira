{
  "nbformat": 4,
  "nbformat_minor": 0,
  "metadata": {
    "colab": {
      "provenance": [],
      "include_colab_link": true
    },
    "kernelspec": {
      "name": "python3",
      "display_name": "Python 3"
    },
    "language_info": {
      "name": "python"
    }
  },
  "cells": [
    {
      "cell_type": "markdown",
      "metadata": {
        "id": "view-in-github",
        "colab_type": "text"
      },
      "source": [
        "<a href=\"https://colab.research.google.com/github/Anandagvieira/Anandagvieira/blob/main/desafio5.ipynb\" target=\"_parent\"><img src=\"https://colab.research.google.com/assets/colab-badge.svg\" alt=\"Open In Colab\"/></a>"
      ]
    },
    {
      "cell_type": "code",
      "execution_count": null,
      "metadata": {
        "id": "s9l_GRDP0INp",
        "colab": {
          "base_uri": "https://localhost:8080/"
        },
        "outputId": "8873886a-d530-4c40-a519-52a18a1a39b2"
      },
      "outputs": [
        {
          "output_type": "stream",
          "name": "stdout",
          "text": [
            "bom\n",
            "Sentimento: Positivo\n"
          ]
        }
      ],
      "source": [
        "#desafio 1\n",
        "# Importa o módulo re, que é a biblioteca de expressões regulares do Python.\n",
        "import re\n",
        "\n",
        "def analyze_sentiment():\n",
        "    # Entrada do usuário\n",
        "    comentario = input()\n",
        "\n",
        "    # Divisão do comentário em palavras\n",
        "    palavras = re.findall(r'\\b\\w+\\b', comentario.lower())\n",
        "\n",
        "    # Lista de palavras positivas, negativas e neutras\n",
        "    positivas = [\"bom\", \"boa\", \"ótimo\", \"excelente\", \"maravilhoso\", \"gostei\", \"incrível\"]\n",
        "    negativas = [\"ruim\", \"péssimo\", \"horrível\", \"terrível\", \"odeio\"]\n",
        "    neutras = [\"mas\", \"deixou\", \"apesar\", \"embora\"]\n",
        "\n",
        "    # Contagem de palavras positivas, negativas e neutras\n",
        "    count_positivo = sum(palavra in positivas for palavra in palavras)\n",
        "    count_negativo = sum(palavra in negativas for palavra in palavras)\n",
        "    count_neutro = sum(palavra in neutras for palavra in palavras)\n",
        "    # TODO: Conte quantas palavras neutras estão presentes no comentário.\n",
        "\n",
        "    # Verifica o sentimento com base nas contagens\n",
        "    if count_positivo > count_negativo and count_neutro == 0:\n",
        "        return \"Positivo\"\n",
        "    elif count_negativo > count_positivo and count_neutro == 0:\n",
        "        return \"Negativo\"\n",
        "    else:\n",
        "        return \"Neutro\"\n",
        "    # TODO: Complete a codição para determinar o sentimento com base na contagem de palavras\n",
        "\n",
        "# Saída esperada\n",
        "sentimento = analyze_sentiment()\n",
        "print(\"Sentimento:\", sentimento)\n",
        "\n",
        "\n",
        "\n",
        "\n",
        "\n",
        "\n",
        "\n",
        "\n"
      ]
    },
    {
      "cell_type": "code",
      "source": [
        "#desafio 2\n",
        "# Entrada do usuário\n",
        "prompt_usuario = input()\n",
        "\n",
        "# Função para avaliar se o prompt está adequado\n",
        "def avaliar_prompt(prompt):\n",
        "    # Verifica se o prompt contém palavras-chave relevantes\n",
        "    palavras_chave = [\"inteligência artificial\", \"sistemas de recomendação online\", \"exemplos de conversação\", \"explique conceitos\", \"dicas de tecnologia\" ]\n",
        "\n",
        "    # Verifica se pelo menos uma das palavras-chave está presente no prompt\n",
        "    if any(palavra in prompt.lower() for palavra in palavras_chave):\n",
        "        return \"O prompt está adequado.\"\n",
        "    else:\n",
        "        return \"O prompt não está adequado. Inclua palavras-chave relevantes.\"\n",
        "\n",
        "# Avaliar o prompt do usuário\n",
        "feedback_usuario = avaliar_prompt(prompt_usuario)\n",
        "\n",
        "# Exibir feedback\n",
        "print(feedback_usuario)\n"
      ],
      "metadata": {
        "colab": {
          "base_uri": "https://localhost:8080/"
        },
        "id": "9invfTnhALR1",
        "outputId": "592abf22-4ac1-4889-ef96-2e85c2016112"
      },
      "execution_count": null,
      "outputs": [
        {
          "output_type": "stream",
          "name": "stdout",
          "text": [
            "inteligência artificial\n",
            "O prompt está adequado.\n"
          ]
        }
      ]
    },
    {
      "cell_type": "code",
      "source": [
        "#desafio 3\n",
        "def identificar_funcoes(texto):\n",
        "    # Retorna uma mensagem sobre separar funções em unidades coesas e com responsabilidades únicas.\n",
        "    return \"Separe funções em unidades coesas e com responsabilidades únicas.\"\n",
        "\n",
        "def entrada_de_dados(texto):\n",
        "    # TODO: Retorne uma mensagem sobre validar e normalizar as entradas para evitar inconsistências.\n",
        "    return \"Valide e normalize as entradas para evitar inconsistências.\"\n",
        "\n",
        "def nomenclatura_significativa(texto):\n",
        "    # TODO: Retorne uma mensagem sobre usar nomes descritivos para variáveis e funções.\n",
        "    return \"Use nomes descritivos para variáveis e funções.\"\n",
        "\n",
        "def processar_entrada(texto):\n",
        "    # Dicionário mapeando textos para funções\n",
        "    opcoes = {\n",
        "        \"Dica de boas práticas de refatoração de código, nas funções.\": identificar_funcoes,\n",
        "        \"Dica de boas práticas de refatoração de código, nas entrada de dados.\": entrada_de_dados,\n",
        "        \"Dica de boas práticas de refatoração de código, nomenclaturas.\": nomenclatura_significativa\n",
        "    }\n",
        "\n",
        "    # Verifica se o texto está presente nas opções\n",
        "    if texto in opcoes:\n",
        "        # Chama a função correspondente ao texto e retorna o resultado\n",
        "        return opcoes[texto](texto)\n",
        "    else:\n",
        "        # TODO: Retorne uma mensagem de opção inválida se o texto não estiver nas opções\n",
        "        return \"Opção inválida.\"\n",
        "\n",
        "def desafio():\n",
        "    # Solicita uma entrada do usuário\n",
        "    entrada = input()\n",
        "    # Processa a entrada e obtém a saída\n",
        "    saida = processar_entrada(entrada)\n",
        "    # Exibe a saída\n",
        "    print(saida)\n",
        "\n",
        "desafio()"
      ],
      "metadata": {
        "colab": {
          "base_uri": "https://localhost:8080/"
        },
        "id": "cPNaVVDiAaWL",
        "outputId": "2a41f869-cc14-4f53-e4fe-33743a5a4344"
      },
      "execution_count": null,
      "outputs": [
        {
          "output_type": "stream",
          "name": "stdout",
          "text": [
            "Dica de boas práticas de refatoração de código, nas funções.\n",
            "Separe funções em unidades coesas e com responsabilidades únicas.\n"
          ]
        }
      ]
    },
    {
      "cell_type": "code",
      "source": [
        "#desafio 4\n",
        "# Entrada do usuário\n",
        "cogumelo_desejado = input()\n",
        "\n",
        "# Função para sugerir cogumelos com preços mais baixos com base em um cogumelo desejado.\n",
        "def sugerir_cogumelos(cogumelo_desejado):\n",
        "    #TODO: Defina um dicionário onde as chaves são os tipos de cogumelos e os valores são os preços correspondentes\n",
        "    catalogo = {\n",
        "        \"Shitake\": 10,\n",
        "        \"Portobello\": 8,\n",
        "        \"Shimeji\": 6,\n",
        "        \"Champignon\": 12,\n",
        "        \"Funghi\": 16,\n",
        "        \"Porcini\": 16,\n",
        "    }\n",
        "\n",
        "      # Verifica se o cogumelo desejado está no catálogo\n",
        "    if cogumelo_desejado in catalogo:\n",
        "        # Armazena o preço do cogumelo desejado e cria uma lista vazia para as sugestões\n",
        "        valor_desejado = catalogo[cogumelo_desejado]\n",
        "        sugestoes = []\n",
        "\n",
        "        # Procura por cogumelos mais baratos no catálogo\n",
        "        for cogumelo, valor in catalogo.items():\n",
        "            if valor <= valor_desejado and cogumelo != cogumelo_desejado:\n",
        "                sugestoes.append((cogumelo, valor))  # Adiciona uma tupla (cogumelo, valor)\n",
        "                if len(sugestoes) == 2:\n",
        "                    break\n",
        "\n",
        "        if not sugestoes:\n",
        "            # Se não houver sugestões, exibe a mensagem indicada no enunciado\n",
        "            print(\"Desculpe, não há sugestões disponíveis.\")\n",
        "        else:\n",
        "            for sugestao, valor_sugestao in sugestoes:\n",
        "                print(f\"{sugestao} - Valor: {valor_sugestao}\")\n",
        "    else:\n",
        "        # Se o cogumelo desejado não estiver no catálogo, exibe uma mensagem de erro indicada no enunciado\n",
        "        print(\"Cogumelo não encontrado no catálogo.\")\n",
        "\n",
        "# Chamada da função para sugerir cogumelos\n",
        "sugerir_cogumelos(cogumelo_desejado)"
      ],
      "metadata": {
        "colab": {
          "base_uri": "https://localhost:8080/"
        },
        "id": "ds1b1DhBApjh",
        "outputId": "b7bc2e64-6649-4dfd-d9db-b3c4f62e4933"
      },
      "execution_count": null,
      "outputs": [
        {
          "output_type": "stream",
          "name": "stdout",
          "text": [
            "Shitake\n",
            "Portobello - Valor: 8\n",
            "Shimeji - Valor: 6\n"
          ]
        }
      ]
    },
    {
      "cell_type": "code",
      "source": [
        "#desafio 5\n",
        "def calculate_metrics(tp, fp, fn, tn):\n",
        "    accuracy = (tp + tn) / (tp + fp + fn + tn)\n",
        "    precision = tp / (tp + fp)\n",
        "    return accuracy, precision\n",
        "\n",
        "def best_performance(matrices):\n",
        "    best_index = 0\n",
        "    best_accuracy = 0\n",
        "    best_precision = 0\n",
        "    for index, matrix in enumerate(matrices):\n",
        "        tp, fp, fn, tn = map(int, matrix)\n",
        "        accuracy, precision = calculate_metrics(tp, fp, fn, tn)\n",
        "        if accuracy + precision > best_accuracy + best_precision:\n",
        "            best_index = index\n",
        "            best_accuracy = accuracy\n",
        "            best_precision = precision\n",
        "    return best_index, round(best_accuracy, 2), round(best_precision, 2)\n",
        "\n",
        "n = int(input())\n",
        "matrices = []\n",
        "\n",
        "for _ in range(n):\n",
        "    matrix = input()\n",
        "    matrices.append(matrix.split(','))\n",
        "\n",
        "best_index, best_accuracy, best_precision = best_performance(matrices)\n",
        "\n",
        "print(f\"Índice: {best_index + 1}\")\n",
        "print(f\"Acurácia: {best_accuracy}\")\n",
        "print(f\"Precisão: {best_precision}\")\n"
      ],
      "metadata": {
        "colab": {
          "base_uri": "https://localhost:8080/"
        },
        "id": "F1Hp9v_BAsw5",
        "outputId": "52bcdf87-b6fb-4475-c9d8-b4b5c9acdafe"
      },
      "execution_count": null,
      "outputs": [
        {
          "output_type": "stream",
          "name": "stdout",
          "text": [
            "3\n",
            "50,10,5,85\n",
            "20,5,8,67\n",
            "30,12,4,88\n",
            "Índice: 1\n",
            "Acurácia: 0.9\n",
            "Precisão: 0.83\n"
          ]
        }
      ]
    },
    {
      "cell_type": "code",
      "source": [],
      "metadata": {
        "id": "hpcocK0JAp8b"
      },
      "execution_count": null,
      "outputs": []
    },
    {
      "cell_type": "markdown",
      "source": [
        "Adições:\n",
        "\n",
        "Função calculate_metrics: Esta função calcula a acurácia e precisão com base nos valores de TP, FP, FN e TN passados como argumentos.\n",
        "Atualização da função best_performance: A função agora itera sobre as matrizes, converte os valores para inteiros, calcula as métricas usando a função calculate_metrics e compara as métricas para encontrar a matriz com o melhor desempenho combinado de acurácia e precisão.\n",
        "Essas adições permitem que o código funcione corretamente para calcular e comparar as métricas de acurácia e precisão das matrizes de confusão fornecidas.\n",
        "\n",
        "\n",
        "\n",
        "\n",
        "\n"
      ],
      "metadata": {
        "id": "WDvBtvK50Q_1"
      }
    }
  ]
}